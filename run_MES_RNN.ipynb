{
 "cells": [
  {
   "cell_type": "code",
   "execution_count": 4,
   "id": "29ccd913",
   "metadata": {},
   "outputs": [
    {
     "name": "stdout",
     "output_type": "stream",
     "text": [
      "2.4.0\n",
      "2.4.1\n",
      "0.12.2\n",
      "[PhysicalDevice(name='/physical_device:GPU:0', device_type='GPU')]\n"
     ]
    }
   ],
   "source": [
    "# sys.path.append(\".\")\n",
    "from MES_RNN.model import *\n",
    "from utils.metrics import *\n",
    "\n",
    "import warnings\n",
    "warnings.simplefilter('ignore')\n",
    "\n",
    "# check version\n",
    "print(tf.keras.__version__)\n",
    "print(tf.__version__)\n",
    "print(tfp.__version__)\n",
    "print(tf.config.list_physical_devices('GPU'))\n",
    "\n"
   ]
  },
  {
   "cell_type": "code",
   "execution_count": 5,
   "id": "2b481594-9f57-4f73-b3c9-89f9af070b55",
   "metadata": {},
   "outputs": [
    {
     "name": "stdout",
     "output_type": "stream",
     "text": [
      "total 18\n",
      "drwxrwsr-x 4 mathonsi sarl_climate  4096 Sep  7 06:34 \u001b[0m\u001b[01;34mMES_RNN\u001b[0m/\n",
      "-rw-rw-r-- 1 mathonsi sarl_climate   711 Sep  7 06:11 README.md\n",
      "-rw-rw-r-- 1 mathonsi sarl_climate 14099 Sep  7 06:33 run_MES_RNN.ipynb\n",
      "drwxrwsr-x 3 mathonsi sarl_climate  4096 Sep  7 06:11 \u001b[01;34mutils\u001b[0m/\n"
     ]
    }
   ],
   "source": [
    "ls -l\n"
   ]
  },
  {
   "cell_type": "code",
   "execution_count": null,
   "id": "df660b5c",
   "metadata": {
    "scrolled": true
   },
   "outputs": [],
   "source": [
    "pre_layer = preprocess()\n",
    "df = pre_layer.load_data()\n",
    "df = pre_layer.clean_data(df)\n",
    "df = pre_layer.fill_missing(df)\n",
    "scaled_df, df_scaler = pre_layer.scale(df)\n",
    "scaled_df"
   ]
  },
  {
   "cell_type": "code",
   "execution_count": null,
   "id": "8a143bbc",
   "metadata": {},
   "outputs": [],
   "source": [
    "mes_layer = ES()\n",
    "params, internals = mes_layer.es(scaled_df)\n",
    "es_scaled, df_trend, df_seas = mes_layer.deTS(scaled_df, internals)\n",
    "\n",
    "es_scaled"
   ]
  },
  {
   "cell_type": "code",
   "execution_count": null,
   "id": "148bdae6",
   "metadata": {
    "scrolled": true
   },
   "outputs": [],
   "source": [
    "dl_layer = rnn()\n",
    "train, valid, test, x_train, y_train, x_valid, y_valid, x_test = dl_layer.split(es_scaled)\n",
    "y_pred_es_scaled = dl_layer.forecast_model(test, x_train, y_train, x_valid, y_valid, x_test)"
   ]
  },
  {
   "cell_type": "code",
   "execution_count": null,
   "id": "d982709d",
   "metadata": {
    "scrolled": true
   },
   "outputs": [],
   "source": [
    "forecasts = dl_layer.reTS(y_pred_es_scaled, es_scaled, train, valid, df_trend, df_seas, df_scaler, df)"
   ]
  },
  {
   "cell_type": "markdown",
   "id": "c34d6e78",
   "metadata": {},
   "source": [
    "### prediction intervals"
   ]
  },
  {
   "cell_type": "code",
   "execution_count": null,
   "id": "656e5dd6",
   "metadata": {
    "scrolled": true
   },
   "outputs": [],
   "source": [
    "pi_pred_es_scaled = dl_layer.pi_model(test, x_train, y_train, x_valid, y_valid, x_test)"
   ]
  },
  {
   "cell_type": "code",
   "execution_count": null,
   "id": "3822dbe8",
   "metadata": {},
   "outputs": [],
   "source": [
    "pi = dl_layer.reTS_pi(pi_pred_es_scaled, es_scaled, train, valid, df_trend, df_seas, df_scaler, df)"
   ]
  },
  {
   "cell_type": "code",
   "execution_count": null,
   "id": "77e9f9d5",
   "metadata": {},
   "outputs": [],
   "source": [
    "# print('\\n' + 'MIS for MES-RNN:\\n', file = f)\n",
    "print(mis(pi['total_deaths_lower'].values, pi['total_deaths_upper'].values, pi['total_deaths_true'].values, alpha = dl_layer.alpha))\n",
    "print(mis(pi['total_cases_lower'].values, pi['total_cases_upper'].values, pi['total_cases_true'].values, alpha = dl_layer.alpha))"
   ]
  },
  {
   "cell_type": "code",
   "execution_count": null,
   "id": "69a33582",
   "metadata": {},
   "outputs": [],
   "source": [
    "# print('\\n' + 'MIS for MES-RNN:\\n', file = f)\n",
    "print(coverage(pi['total_deaths_lower'].values, pi['total_deaths_upper'].values, pi['total_deaths_true'].values))\n",
    "print(coverage(pi['total_cases_lower'].values, pi['total_cases_upper'].values, pi['total_cases_true'].values))"
   ]
  },
  {
   "cell_type": "code",
   "execution_count": null,
   "id": "c280d41f",
   "metadata": {},
   "outputs": [],
   "source": [
    "print(smape(forecasts['total_deaths_true'], forecasts['total_deaths_pred']))\n",
    "print(smape(forecasts['total_cases_true'], forecasts['total_cases_pred']))"
   ]
  },
  {
   "cell_type": "code",
   "execution_count": null,
   "id": "a40892fe",
   "metadata": {},
   "outputs": [],
   "source": [
    "print(mase(train, forecasts['total_deaths_true'], forecasts['total_deaths_pred']))\n",
    "print(mase(train, forecasts['total_cases_true'], forecasts['total_cases_pred']))"
   ]
  },
  {
   "cell_type": "markdown",
   "id": "70331c6c",
   "metadata": {},
   "source": [
    "# RNN"
   ]
  },
  {
   "cell_type": "code",
   "execution_count": null,
   "id": "4ae8ce3d",
   "metadata": {},
   "outputs": [],
   "source": [
    "dl_layer = rnn(results_path = 'pure_rnn/')\n",
    "train, valid, test, x_train, y_train, x_valid, y_valid, x_test = dl_layer.split(scaled_df)\n",
    "y_pred_scaled = dl_layer.forecast_model(test, x_train, y_train, x_valid, y_valid, x_test)\n",
    "\n",
    "forecasts = dl_layer.descale(y_pred_scaled, scaled_df, train, valid, df_scaler, df)"
   ]
  },
  {
   "cell_type": "markdown",
   "id": "e0bd869b",
   "metadata": {},
   "source": [
    "### prediction intervals"
   ]
  },
  {
   "cell_type": "code",
   "execution_count": null,
   "id": "cf2d3463",
   "metadata": {},
   "outputs": [],
   "source": [
    "pi_pred_scaled = dl_layer.pi_model(test, x_train, y_train, x_valid, y_valid, x_test)\n",
    "\n",
    "pi = dl_layer.descale_pi(pi_pred_scaled, scaled_df, train, valid, df_scaler, df)"
   ]
  },
  {
   "cell_type": "code",
   "execution_count": null,
   "id": "ab9e6c96",
   "metadata": {},
   "outputs": [],
   "source": [
    "pi.head()"
   ]
  },
  {
   "cell_type": "code",
   "execution_count": null,
   "id": "7f02438b",
   "metadata": {},
   "outputs": [],
   "source": [
    "# print('\\n' + 'MIS for MES-RNN:\\n', file = f)\n",
    "print(mis(pi['total_deaths_lower'].values, pi['total_deaths_upper'].values, pi['total_deaths_true'].values, alpha = dl_layer.alpha))\n",
    "print(mis(pi['total_cases_lower'].values, pi['total_cases_upper'].values, pi['total_cases_true'].values, alpha = dl_layer.alpha))"
   ]
  },
  {
   "cell_type": "code",
   "execution_count": null,
   "id": "8227cb9e",
   "metadata": {},
   "outputs": [],
   "source": [
    "# print('\\n' + 'MIS for MES-RNN:\\n', file = f)\n",
    "print(coverage(pi['total_deaths_lower'].values, pi['total_deaths_upper'].values, pi['total_deaths_true'].values))\n",
    "print(coverage(pi['total_cases_lower'].values, pi['total_cases_upper'].values, pi['total_cases_true'].values))"
   ]
  },
  {
   "cell_type": "code",
   "execution_count": null,
   "id": "ccf60581",
   "metadata": {},
   "outputs": [],
   "source": [
    "print(smape(forecasts['total_deaths_true'], forecasts['total_deaths_pred']))\n",
    "print(smape(forecasts['total_cases_true'], forecasts['total_cases_pred']))"
   ]
  },
  {
   "cell_type": "code",
   "execution_count": null,
   "id": "e0a5c76b",
   "metadata": {},
   "outputs": [],
   "source": [
    "print(mase(train, forecasts['total_deaths_true'], forecasts['total_deaths_pred']))\n",
    "print(mase(train, forecasts['total_cases_true'], forecasts['total_cases_pred']))"
   ]
  },
  {
   "cell_type": "markdown",
   "id": "daa97ec2",
   "metadata": {},
   "source": [
    "# VARMAX"
   ]
  },
  {
   "cell_type": "code",
   "execution_count": null,
   "id": "86ae674d",
   "metadata": {},
   "outputs": [],
   "source": [
    "bench = stats()\n",
    "train, test, x_train, x_test = bench.split(scaled_df)\n",
    "y_pred_scaled, pi_pred_scaled = bench.forecast_varmax(test, x_train, y_train, x_test)\n",
    "forecasts = bench.descale(y_pred_scaled, scaled_df, train, valid, df_scaler, df)\n",
    "pi = bench.descale_pi(pi_pred_scaled, scaled_df, train, valid, df_scaler, df)"
   ]
  },
  {
   "cell_type": "code",
   "execution_count": null,
   "id": "57718d79",
   "metadata": {},
   "outputs": [],
   "source": [
    "# print('\\n' + 'MIS for MES-RNN:\\n', file = f)\n",
    "print(mis(pi['total_deaths_lower'].values, pi['total_deaths_upper'].values, pi['total_deaths_true'].values, alpha = dl_layer.alpha))\n",
    "print(mis(pi['total_cases_lower'].values, pi['total_cases_upper'].values, pi['total_cases_true'].values, alpha = dl_layer.alpha))"
   ]
  },
  {
   "cell_type": "code",
   "execution_count": null,
   "id": "fd98aa8b",
   "metadata": {},
   "outputs": [],
   "source": [
    "# print('\\n' + 'MIS for MES-RNN:\\n', file = f)\n",
    "print(coverage(pi['total_deaths_lower'].values, pi['total_deaths_upper'].values, pi['total_deaths_true'].values))\n",
    "print(coverage(pi['total_cases_lower'].values, pi['total_cases_upper'].values, pi['total_cases_true'].values))"
   ]
  },
  {
   "cell_type": "code",
   "execution_count": null,
   "id": "6436f93f",
   "metadata": {},
   "outputs": [],
   "source": [
    "print(smape(forecasts['total_deaths_true'], forecasts['total_deaths_pred']))\n",
    "print(smape(forecasts['total_cases_true'], forecasts['total_cases_pred']))"
   ]
  },
  {
   "cell_type": "code",
   "execution_count": null,
   "id": "5ef347f3",
   "metadata": {},
   "outputs": [],
   "source": [
    "print(mase(train, forecasts['total_deaths_true'], forecasts['total_deaths_pred']))\n",
    "print(mase(train, forecasts['total_cases_true'], forecasts['total_cases_pred']))"
   ]
  },
  {
   "cell_type": "markdown",
   "id": "2b40c1de",
   "metadata": {},
   "source": [
    "# SARIMAX"
   ]
  },
  {
   "cell_type": "code",
   "execution_count": null,
   "id": "58590c7a",
   "metadata": {},
   "outputs": [],
   "source": [
    "bench = stats(results_path = 'sarimax/')\n",
    "# train, test, x_train, x_test = bench.split(scaled_df)\n",
    "y_pred_scaled, pi_pred_scaled = bench.forecast_sarimax(test, x_train, y_train, x_test)\n",
    "forecasts = bench.descale(y_pred_scaled, scaled_df, train, valid, df_scaler, df)\n",
    "pi = bench.descale_pi(pi_pred_scaled, scaled_df, train, valid, df_scaler, df)"
   ]
  },
  {
   "cell_type": "code",
   "execution_count": null,
   "id": "3d17082f",
   "metadata": {},
   "outputs": [],
   "source": [
    "# print('\\n' + 'MIS for MES-RNN:\\n', file = f)\n",
    "print(mis(pi['total_deaths_lower'].values, pi['total_deaths_upper'].values, pi['total_deaths_true'].values, alpha = dl_layer.alpha))\n",
    "print(mis(pi['total_cases_lower'].values, pi['total_cases_upper'].values, pi['total_cases_true'].values, alpha = dl_layer.alpha))"
   ]
  },
  {
   "cell_type": "code",
   "execution_count": null,
   "id": "0077e52c",
   "metadata": {},
   "outputs": [],
   "source": [
    "# print('\\n' + 'MIS for MES-RNN:\\n', file = f)\n",
    "print(coverage(pi['total_deaths_lower'].values, pi['total_deaths_upper'].values, pi['total_deaths_true'].values))\n",
    "print(coverage(pi['total_cases_lower'].values, pi['total_cases_upper'].values, pi['total_cases_true'].values))"
   ]
  },
  {
   "cell_type": "code",
   "execution_count": null,
   "id": "15d3f285",
   "metadata": {},
   "outputs": [],
   "source": [
    "print(smape(forecasts['total_deaths_true'], forecasts['total_deaths_pred']))\n",
    "print(smape(forecasts['total_cases_true'], forecasts['total_cases_pred']))"
   ]
  },
  {
   "cell_type": "code",
   "execution_count": null,
   "id": "2ad766de",
   "metadata": {},
   "outputs": [],
   "source": [
    "print(mase(train, forecasts['total_deaths_true'], forecasts['total_deaths_pred']))\n",
    "print(mase(train, forecasts['total_cases_true'], forecasts['total_cases_pred']))"
   ]
  },
  {
   "cell_type": "markdown",
   "id": "3b2db85a",
   "metadata": {},
   "source": [
    "# MLR"
   ]
  },
  {
   "cell_type": "code",
   "execution_count": null,
   "id": "8b4b0261",
   "metadata": {},
   "outputs": [],
   "source": [
    "bench = stats(results_path = 'mlr/')\n",
    "# train, test, x_train, x_test = bench.split(scaled_df)\n",
    "y_pred_scaled, pi_pred_scaled = bench.forecast_mlr(test, x_train, y_train, x_test)\n",
    "forecasts = bench.descale(y_pred_scaled, scaled_df, train, valid, df_scaler, df)\n",
    "pi = bench.descale_pi(pi_pred_scaled, scaled_df, train, valid, df_scaler, df)"
   ]
  },
  {
   "cell_type": "code",
   "execution_count": null,
   "id": "c1148883",
   "metadata": {},
   "outputs": [],
   "source": [
    "# print('\\n' + 'MIS for MES-RNN:\\n', file = f)\n",
    "print(mis(pi['total_deaths_lower'].values, pi['total_deaths_upper'].values, pi['total_deaths_true'].values, alpha = dl_layer.alpha))\n",
    "print(mis(pi['total_cases_lower'].values, pi['total_cases_upper'].values, pi['total_cases_true'].values, alpha = dl_layer.alpha))"
   ]
  },
  {
   "cell_type": "code",
   "execution_count": null,
   "id": "337d30af",
   "metadata": {
    "scrolled": true
   },
   "outputs": [],
   "source": [
    "# print('\\n' + 'MIS for MES-RNN:\\n', file = f)\n",
    "print(coverage(pi['total_deaths_lower'].values, pi['total_deaths_upper'].values, pi['total_deaths_true'].values))\n",
    "print(coverage(pi['total_cases_lower'].values, pi['total_cases_upper'].values, pi['total_cases_true'].values))"
   ]
  },
  {
   "cell_type": "code",
   "execution_count": null,
   "id": "2506870f",
   "metadata": {},
   "outputs": [],
   "source": [
    "print(smape(forecasts['total_deaths_true'], forecasts['total_deaths_pred']))\n",
    "print(smape(forecasts['total_cases_true'], forecasts['total_cases_pred']))"
   ]
  },
  {
   "cell_type": "code",
   "execution_count": null,
   "id": "04aaa7e0",
   "metadata": {},
   "outputs": [],
   "source": [
    "print(mase(train, forecasts['total_deaths_true'], forecasts['total_deaths_pred']))\n",
    "print(mase(train, forecasts['total_cases_true'], forecasts['total_cases_pred']))"
   ]
  },
  {
   "cell_type": "code",
   "execution_count": null,
   "id": "e4cc3111",
   "metadata": {},
   "outputs": [],
   "source": []
  }
 ],
 "metadata": {
  "kernelspec": {
   "display_name": "Python 3",
   "language": "python",
   "name": "python3"
  },
  "language_info": {
   "codemirror_mode": {
    "name": "ipython",
    "version": 3
   },
   "file_extension": ".py",
   "mimetype": "text/x-python",
   "name": "python",
   "nbconvert_exporter": "python",
   "pygments_lexer": "ipython3",
   "version": "3.7.10"
  }
 },
 "nbformat": 4,
 "nbformat_minor": 5
}
