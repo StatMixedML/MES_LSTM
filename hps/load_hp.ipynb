{
 "cells": [
  {
   "cell_type": "code",
   "execution_count": 1,
   "id": "02c49ff4-8e18-4295-a610-1c9bb7a252b2",
   "metadata": {},
   "outputs": [],
   "source": [
    "from os import walk\n",
    "import re\n",
    "from os.path import join, split\n",
    "import numpy as np\n",
    "import pandas as pd"
   ]
  },
  {
   "cell_type": "code",
   "execution_count": 2,
   "id": "587115fd-1bf3-4856-8771-ddb56bcd4b6d",
   "metadata": {},
   "outputs": [],
   "source": [
    "load_path = 'results/'"
   ]
  },
  {
   "cell_type": "code",
   "execution_count": 3,
   "id": "5237f32e-c4a9-4608-bed6-c33846718ada",
   "metadata": {},
   "outputs": [],
   "source": [
    "files = []\n",
    "for (dirpath, _, filenames) in walk(load_path):\n",
    "    files += [join(dirpath, file) for file in filenames]\n",
    "    break"
   ]
  },
  {
   "cell_type": "code",
   "execution_count": 8,
   "id": "f977390b-50ec-4bc9-ba89-699952f246b0",
   "metadata": {},
   "outputs": [
    {
     "data": {
      "text/html": [
       "<div>\n",
       "<style scoped>\n",
       "    .dataframe tbody tr th:only-of-type {\n",
       "        vertical-align: middle;\n",
       "    }\n",
       "\n",
       "    .dataframe tbody tr th {\n",
       "        vertical-align: top;\n",
       "    }\n",
       "\n",
       "    .dataframe thead th {\n",
       "        text-align: right;\n",
       "    }\n",
       "</style>\n",
       "<table border=\"1\" class=\"dataframe\">\n",
       "  <thead>\n",
       "    <tr style=\"text-align: right;\">\n",
       "      <th></th>\n",
       "      <th>lstm_size</th>\n",
       "      <th>epochs</th>\n",
       "      <th>batch_size</th>\n",
       "      <th>window</th>\n",
       "      <th>smape_cases</th>\n",
       "      <th>smape_deaths</th>\n",
       "    </tr>\n",
       "  </thead>\n",
       "  <tbody>\n",
       "    <tr>\n",
       "      <th>2179</th>\n",
       "      <td>130.0</td>\n",
       "      <td>15.0</td>\n",
       "      <td>32.0</td>\n",
       "      <td>14.0</td>\n",
       "      <td>39.331152</td>\n",
       "      <td>9.049362</td>\n",
       "    </tr>\n",
       "    <tr>\n",
       "      <th>2180</th>\n",
       "      <td>85.0</td>\n",
       "      <td>45.0</td>\n",
       "      <td>16.0</td>\n",
       "      <td>14.0</td>\n",
       "      <td>3.012030</td>\n",
       "      <td>32.120568</td>\n",
       "    </tr>\n",
       "    <tr>\n",
       "      <th>2181</th>\n",
       "      <td>55.0</td>\n",
       "      <td>50.0</td>\n",
       "      <td>16.0</td>\n",
       "      <td>14.0</td>\n",
       "      <td>9.598770</td>\n",
       "      <td>10.770614</td>\n",
       "    </tr>\n",
       "    <tr>\n",
       "      <th>2182</th>\n",
       "      <td>70.0</td>\n",
       "      <td>40.0</td>\n",
       "      <td>32.0</td>\n",
       "      <td>7.0</td>\n",
       "      <td>2.812374</td>\n",
       "      <td>20.317408</td>\n",
       "    </tr>\n",
       "    <tr>\n",
       "      <th>2183</th>\n",
       "      <td>60.0</td>\n",
       "      <td>35.0</td>\n",
       "      <td>16.0</td>\n",
       "      <td>14.0</td>\n",
       "      <td>7.814233</td>\n",
       "      <td>29.518992</td>\n",
       "    </tr>\n",
       "  </tbody>\n",
       "</table>\n",
       "</div>"
      ],
      "text/plain": [
       "      lstm_size  epochs  batch_size  window  smape_cases  smape_deaths\n",
       "2179      130.0    15.0        32.0    14.0    39.331152      9.049362\n",
       "2180       85.0    45.0        16.0    14.0     3.012030     32.120568\n",
       "2181       55.0    50.0        16.0    14.0     9.598770     10.770614\n",
       "2182       70.0    40.0        32.0     7.0     2.812374     20.317408\n",
       "2183       60.0    35.0        16.0    14.0     7.814233     29.518992"
      ]
     },
     "execution_count": 8,
     "metadata": {},
     "output_type": "execute_result"
    }
   ],
   "source": [
    "arr = []\n",
    "for file in files:\n",
    "    arr.append(np.load(file))\n",
    "\n",
    "df = pd.DataFrame(arr, columns = ['lstm_size', 'epochs', 'batch_size', 'window', 'smape_cases', 'smape_deaths'])\n",
    "df.tail()"
   ]
  },
  {
   "cell_type": "code",
   "execution_count": 17,
   "id": "c4dc800b-d808-4f80-b4d6-1eed8a3da132",
   "metadata": {},
   "outputs": [
    {
     "data": {
      "text/plain": [
       "(50.0, 60.0, 8.0, 7.0, 0.719041158393443, 16.51478946512229)"
      ]
     },
     "execution_count": 17,
     "metadata": {},
     "output_type": "execute_result"
    }
   ],
   "source": [
    "df1 = df.sort_values(by = ['smape_cases', 'smape_deaths'])\n",
    "df1.iloc[:50, :].value_counts().idxmax()"
   ]
  },
  {
   "cell_type": "code",
   "execution_count": 18,
   "id": "6d8d76e2-4973-4376-81a2-34ab65ca55cd",
   "metadata": {},
   "outputs": [
    {
     "data": {
      "text/plain": [
       "(50.0, 25.0, 64.0, 14.0, 71.18445130502694, 2.2419770231030034)"
      ]
     },
     "execution_count": 18,
     "metadata": {},
     "output_type": "execute_result"
    }
   ],
   "source": [
    "df2 = df.sort_values(by = ['smape_deaths', 'smape_cases'])\n",
    "df2.iloc[:50, :].value_counts().idxmax()"
   ]
  },
  {
   "cell_type": "code",
   "execution_count": null,
   "id": "35efe811-9a59-422b-a9cf-2e3ec36121d1",
   "metadata": {},
   "outputs": [],
   "source": []
  }
 ],
 "metadata": {
  "kernelspec": {
   "display_name": "Python 3 (ipykernel)",
   "language": "python",
   "name": "python3"
  },
  "language_info": {
   "codemirror_mode": {
    "name": "ipython",
    "version": 3
   },
   "file_extension": ".py",
   "mimetype": "text/x-python",
   "name": "python",
   "nbconvert_exporter": "python",
   "pygments_lexer": "ipython3",
   "version": "3.9.6"
  }
 },
 "nbformat": 4,
 "nbformat_minor": 5
}
